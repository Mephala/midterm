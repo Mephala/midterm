{
 "cells": [
  {
   "cell_type": "code",
   "execution_count": 1,
   "metadata": {
    "collapsed": true
   },
   "outputs": [],
   "source": [
    "import numpy as np\n",
    "import random\n",
    "\n",
    "%matplotlib inline\n",
    "from __future__ import print_function\n",
    "from ipywidgets import interact, interactive, fixed\n",
    "import ipywidgets as widgets\n",
    "import matplotlib.pylab as plt\n",
    "from IPython.display import clear_output, display, HTML\n",
    "import scipy as sc\n",
    "import numpy as np\n",
    "import pandas as pd\n",
    "import matplotlib as mpl\n",
    "import matplotlib.pylab as plt"
   ]
  },
  {
   "cell_type": "code",
   "execution_count": 2,
   "metadata": {
    "collapsed": true
   },
   "outputs": [],
   "source": [
    "y = np.matrix('4; 8; 16; 32')"
   ]
  },
  {
   "cell_type": "code",
   "execution_count": 3,
   "metadata": {
    "collapsed": true
   },
   "outputs": [],
   "source": [
    "A = np.matrix('2; 4; 8; 16')"
   ]
  },
  {
   "cell_type": "code",
   "execution_count": 4,
   "metadata": {
    "collapsed": false
   },
   "outputs": [
    {
     "data": {
      "text/plain": [
       "matrix([[ 0.00294118]])"
      ]
     },
     "execution_count": 4,
     "metadata": {},
     "output_type": "execute_result"
    }
   ],
   "source": [
    "k = np.linalg.inv(A.T.dot(A))\n",
    "k"
   ]
  },
  {
   "cell_type": "code",
   "execution_count": 5,
   "metadata": {
    "collapsed": false
   },
   "outputs": [
    {
     "data": {
      "text/plain": [
       "matrix([[680]])"
      ]
     },
     "execution_count": 5,
     "metadata": {},
     "output_type": "execute_result"
    }
   ],
   "source": [
    "l = A.T.dot(y)\n",
    "l"
   ]
  },
  {
   "cell_type": "code",
   "execution_count": null,
   "metadata": {
    "collapsed": false
   },
   "outputs": [],
   "source": []
  },
  {
   "cell_type": "code",
   "execution_count": 6,
   "metadata": {
    "collapsed": false
   },
   "outputs": [
    {
     "data": {
      "text/plain": [
       "matrix([[ 2.]])"
      ]
     },
     "execution_count": 6,
     "metadata": {},
     "output_type": "execute_result"
    }
   ],
   "source": [
    "k*l"
   ]
  },
  {
   "cell_type": "code",
   "execution_count": 7,
   "metadata": {
    "collapsed": false
   },
   "outputs": [
    {
     "data": {
      "text/plain": [
       "matrix([[23]])"
      ]
     },
     "execution_count": 7,
     "metadata": {},
     "output_type": "execute_result"
    }
   ],
   "source": [
    "test = np.matrix('2 3')\n",
    "test2 = np.matrix('4; 5')\n",
    "test*test2"
   ]
  },
  {
   "cell_type": "code",
   "execution_count": null,
   "metadata": {
    "collapsed": false
   },
   "outputs": [],
   "source": []
  },
  {
   "cell_type": "code",
   "execution_count": 8,
   "metadata": {
    "collapsed": true
   },
   "outputs": [],
   "source": [
    "Data = [\n",
    "[0,0,-1.064],\n",
    "[0,1,-0.904],\n",
    "[0,5,0.532],\n",
    "[1,0,1.192],\n",
    "[1,2,0.010],\n",
    "[1,3,0.340],\n",
    "[2,0,4.417],\n",
    "[2,1,2.141],\n",
    "[2,2,-0.260],\n",
    "[2,3,1.039],\n",
    "[2,4,1.633],\n",
    "[2,5,0.031],\n",
    "[3,1,1.811],\n",
    "[3,3,0.619],\n",
    "[3,4,0.386],\n",
    "[3,5,0.577],\n",
    "[4,1,-1.467],\n",
    "[4,2,1.323],\n",
    "[4,4,0.516],\n",
    "[4,5,-0.949],\n",
    "]"
   ]
  },
  {
   "cell_type": "code",
   "execution_count": 9,
   "metadata": {
    "collapsed": false
   },
   "outputs": [
    {
     "data": {
      "text/plain": [
       "-1.064"
      ]
     },
     "execution_count": 9,
     "metadata": {},
     "output_type": "execute_result"
    }
   ],
   "source": [
    "Data[0][2]"
   ]
  },
  {
   "cell_type": "code",
   "execution_count": 10,
   "metadata": {
    "collapsed": false
   },
   "outputs": [
    {
     "name": "stdout",
     "output_type": "stream",
     "text": [
      "[[0.9707169670097351, 0.9484951809832699], [0.06222912962518401, 0.665713762814472], [0.06368881709741969, 0.5360694651050124], [0.23981197914032204, 0.33982733946107213], [0.17023334720060357, 0.07772016164677054]]\n",
      "-----------------\n",
      "[[0.6458935653374653, 0.29051655728486225, 0.209436219546428, 0.22014745992550688, 0.4633289910768692, 0.7011710567366788], [0.033529946822987045, 0.8493694873410239, 0.545556721192123, 0.9196732190631747, 0.5728674671341963, 0.7785250191492961]]\n",
      "------------------\n",
      "[[-1.064, -0.904, [None], [None], [None], 0.532], [1.192, [None], 0.01, 0.34, [None], [None]], [4.417, 2.141, -0.26, 1.039, 1.633, 0.031], [[None], 1.811, [None], 0.619, 0.386, 0.577], [[None], -1.467, 1.323, [None], 0.516, -0.949]]\n"
     ]
    }
   ],
   "source": [
    "w = []\n",
    "h = []\n",
    "X = []\n",
    "def assign_random_parameters():\n",
    "    #create random w and h parameters\n",
    "    for i in range(5):\n",
    "        w.append([])    \n",
    "        for k in range(2):\n",
    "            w[i].append(random.random())\n",
    "    for k in range(2):\n",
    "        h.append([])    \n",
    "        for j in range(6):\n",
    "            h[k].append(random.random())\n",
    "    \n",
    "\n",
    "        \n",
    "#Constructing X 2D array for given values in data.\n",
    "\n",
    "for i in range(5):\n",
    "    X.append([])\n",
    "    for j in range(6):\n",
    "        X[i].append([])\n",
    "        X[i][j].append(None)\n",
    "        \n",
    "for element in Data:\n",
    "    X[element[0]][element[1]] = element[2]\n",
    "    \n",
    "\n",
    "    \n",
    "assign_random_parameters()       \n",
    "print(w)\n",
    "print('-----------------')\n",
    "print(h)\n",
    "print('------------------')\n",
    "print(X)"
   ]
  },
  {
   "cell_type": "code",
   "execution_count": 11,
   "metadata": {
    "collapsed": false
   },
   "outputs": [
    {
     "name": "stdout",
     "output_type": "stream",
     "text": [
      "413.02594802924506\n",
      "2.967980699105599\n",
      "-1.064\n"
     ]
    }
   ],
   "source": [
    "def predict_X(i,j):\n",
    "    #print('pedicting for', i , ' and ' , j)\n",
    "    retval = (w[i][0]*h[0][j])+(w[i][1]*h[1][j])\n",
    "    #print('(',w[i][0] , 'x' ,h[0][j],')+(',w[i][1],'x',h[1][j],')=',retval )\n",
    "    return retval\n",
    "\n",
    "def calculate_error_single_element(i,j):\n",
    "    prediction = predict_X(i,j)\n",
    "    real = X[i][j]\n",
    "    error = prediction - real\n",
    "    return error**2\n",
    "\n",
    "\n",
    "def calculate_total_error(): #with square method\n",
    "    total_error = 0\n",
    "    for element in Data:\n",
    "        i = element[0]\n",
    "        j = element[1]\n",
    "        error = calculate_error_single_element(i,j)\n",
    "        total_error = total_error + error**2\n",
    "    return total_error\n",
    "\n",
    "#0,111056383 0,010663285\n",
    "#\n",
    "print(calculate_total_error())\n",
    "print(calculate_error_single_element(0,0))\n",
    "print(X[0][0])"
   ]
  },
  {
   "cell_type": "markdown",
   "metadata": {},
   "source": [
    "## Minimizing square of error\n",
    "\n",
    "$$\n",
    "x_{i,j} = w_{i,0} h_{0,j} + w_{i,1} h_{1,j} + \\epsilon_{i,j}\n",
    "$$\n",
    "\n",
    "$$\n",
    "\\epsilon_{i,j} = X_{i,j} - w_{i,0} h_{0,j} - w_{i,1} h_{1,j}\n",
    "$$\n",
    "\n",
    "$$\n",
    "\\epsilon_{i,j}^2 = ( X_{i,j} - w_{i,0} h_{0,j} - w_{i,1} h_{1,j} )^2\n",
    "$$\n",
    "\n",
    "$$\n",
    "\\epsilon_{i,j}^2 = X_{i,j}^2 + w_{i,0}^2 h_{0,j}^2 + w_{i,1}^2 h_{1,j}^2 - 2X_{i,j} w_{i,0} h_{0,j} - 2X_{i,j} w_{i,1} h_{1,j} + 2 w_{i,0} h_{0,j} w_{i,1} h_{1,j}\n",
    "$$\n",
    "\n",
    "\n",
    "Minimizing the error function, we need to calculate partial derivative of the function with respect to parameters w and h.\n",
    "\n",
    "When k = 0:\n",
    "\n",
    "With respect to w:\n",
    "\n",
    "$$\n",
    "\\frac{\\partial \\epsilon(i,j)}{\\partial w_{i,0}} = 2W_{i,0} h_{0,j}^2 - 2 X_{i,j} h_{0,j} + 2 h_{0,j} w_{i,1} h_{1,j}\n",
    "$$\n",
    "\n",
    "With respect to h:\n",
    "\n",
    "$$\n",
    "\\frac{\\partial \\epsilon(i,j)}{\\partial h_{0,j}} = 2W_{i,0}^2 h_{0,j} - 2 X_{i,j} w_{i,0} + 2 w_{i,0} w_{i,1} h_{1,j}\n",
    "$$\n",
    "\n",
    "And when k = 1:\n",
    "\n",
    "With respect to w:\n",
    "\n",
    "\n",
    "$$\n",
    "\\frac{\\partial \\epsilon(i,j)}{\\partial w_{i,1}} = 2W_{i,1} h_{1,j}^2 - 2 X_{i,j} h_{1,j} + 2 w_{i,0} h_{0,j} h_{1,j}\n",
    "$$\n",
    "\n",
    "With respect to h:\n",
    "\n",
    "$$\n",
    "\\frac{\\partial \\epsilon(i,j)}{\\partial h_{1,j}} = 2W_{i,1}^2 h_{1,j} - 2 X_{i,j} w_{i,1} + 2 w_{i,0} h_{0,j} w_{i,1}\n",
    "$$\n",
    "\n",
    "It turns out, when we are calculating derivative with respect to w or h ; the value of k changes the result.\n",
    "\n",
    "Also whan taking derivate of w, we are dependant on the j parameter as well."
   ]
  },
  {
   "cell_type": "code",
   "execution_count": 12,
   "metadata": {
    "collapsed": false
   },
   "outputs": [
    {
     "name": "stdout",
     "output_type": "stream",
     "text": [
      "2.2254686961510624\n",
      "3.344669058243612\n"
     ]
    }
   ],
   "source": [
    "def deriv_W(i,j,k, X):\n",
    "    if k==0:\n",
    "        return (2*w[i][0]*h[0][j]**2)-(2*X*h[0][j])+(2*h[0][j]*w[i][1]*h[1][j])\n",
    "    else:\n",
    "        return (2*w[i][1]*h[1][j]**2)-(2*X*h[1][j])+(2*h[0][j]*w[i][0]*h[1][j])\n",
    "\n",
    "def deriv_H(i,j,k, X):\n",
    "    if k==0:\n",
    "        return (2*w[i][0]**2*h[0][j])-(2*X*w[i][0])+(2*w[i][0]*w[i][1]*h[1][j])\n",
    "    else:\n",
    "        return (2*w[i][1]**2*h[1][j])-(2*X*w[i][1])+(2*w[i][0]*h[0][j]*w[i][1])\n",
    "    \n",
    "print(deriv_W(0,0,0,-1.064))\n",
    "print(deriv_H(0,0,0,-1.064))"
   ]
  },
  {
   "cell_type": "code",
   "execution_count": null,
   "metadata": {
    "collapsed": false
   },
   "outputs": [],
   "source": []
  },
  {
   "cell_type": "code",
   "execution_count": 13,
   "metadata": {
    "collapsed": false
   },
   "outputs": [
    {
     "name": "stdout",
     "output_type": "stream",
     "text": [
      "0.9707169670097351\n",
      "2.2254686961510624\n",
      "413.02594802924506\n",
      "2.224634339155574\n",
      "413.0016114337643\n"
     ]
    }
   ],
   "source": [
    "print(w[0][0])\n",
    "print(deriv_W(0,0,0,X[0][0]))\n",
    "print(calculate_total_error())\n",
    "w[0][0]= w[0][0] - 0.001\n",
    "print(deriv_W(0,0,0,X[0][0]))\n",
    "print(calculate_total_error())"
   ]
  },
  {
   "cell_type": "code",
   "execution_count": 14,
   "metadata": {
    "collapsed": false
   },
   "outputs": [
    {
     "name": "stdout",
     "output_type": "stream",
     "text": [
      "413.0016114337643\n",
      "3.824604578528823e-05\n",
      "--------------\n",
      "Prediction for given data:  0 , 0 , -1.1262680204926405\n",
      "Prediction for given data:  0 , 1 , -0.8350843341004\n",
      "Prediction for given data:  0 , 5 , 0.520885128753293\n",
      "Prediction for given data:  1 , 0 , 1.2009104435740952\n",
      "Prediction for given data:  1 , 2 , 0.019433839061671038\n",
      "Prediction for given data:  1 , 3 , 0.3374084423235361\n",
      "Prediction for given data:  2 , 0 , 4.398166865518942\n",
      "Prediction for given data:  2 , 1 , 2.167542220422039\n",
      "Prediction for given data:  2 , 2 , -0.26203441078502887\n",
      "Prediction for given data:  2 , 3 , 1.0377025225087422\n",
      "Prediction for given data:  2 , 4 , 1.6291216243022617\n",
      "Prediction for given data:  2 , 5 , 0.023459052748473708\n",
      "Prediction for given data:  3 , 1 , 1.8114617221168745\n",
      "Prediction for given data:  3 , 3 , 0.619901592446391\n",
      "Prediction for given data:  3 , 4 , 0.3872750347444294\n",
      "Prediction for given data:  3 , 5 , 0.5820739332079633\n",
      "Prediction for given data:  4 , 1 , -1.463028014568507\n",
      "Prediction for given data:  4 , 2 , 1.3236986134087618\n",
      "Prediction for given data:  4 , 4 , 0.5158929740563829\n",
      "Prediction for given data:  4 , 5 , -0.9485521662380478\n",
      "[[-1.1730069386233115, 0.12411271598195532], [0.5179347673339186, 0.2399210636564421], [1.4667266027527457, 1.0971816102919538], [0.5805146434788302, 1.4973431959315127], [0.08001007226515887, -1.7030265216065696]]\n",
      "---------\n",
      "[[1.2127564293038218, 0.8068247752815085, 0.38910230658937567, 0.5602981176184987, 1.2919199610617669, -0.38705113934340085], [2.38737573016977, 0.8969808184214529, -0.7589820201511884, 0.19677541612090457, -0.2422313213430571, 0.5387961754954096]]\n"
     ]
    }
   ],
   "source": [
    "EPOCH = 5000\n",
    "trial = 80\n",
    "eta = 0.0000364 # arbitrary low value\n",
    "print(calculate_total_error())\n",
    "start_error = calculate_total_error()\n",
    "for t in range(trial):\n",
    "    for k in range(2):\n",
    "        for i in range(5):\n",
    "            for j in range(6):\n",
    "                for epoch in range(EPOCH):\n",
    "                    if(type(X[i][j]) is float): # Some i,j values does not exist in Data\n",
    "                        w[i][k] = w[i][k] - (eta*deriv_W(i,j,k,X[i][j]))\n",
    "                        h[k][j] = h[k][j] - (eta*deriv_H(i,j,k,X[i][j]))\n",
    "                    \n",
    "print(calculate_total_error()) # Must show low error\n",
    "print('--------------')\n",
    "for element in Data:\n",
    "    i = element[0]\n",
    "    j = element[1]\n",
    "    prediction = predict_X(i,j)\n",
    "    print('Prediction for given data: ', i , ',' , j, ',' , prediction)\n",
    "print(w)\n",
    "print('---------')\n",
    "print(h)"
   ]
  },
  {
   "cell_type": "code",
   "execution_count": 15,
   "metadata": {
    "collapsed": false
   },
   "outputs": [
    {
     "name": "stdout",
     "output_type": "stream",
     "text": [
      "0 , 2 , -0.5506190253661079\n",
      "0 , 3 , -0.6328112483308344\n",
      "0 , 4 , -1.5454950656591955\n",
      "1 , 1 , 0.6330871942997702\n",
      "1 , 4 , 0.6110138681790397\n",
      "1 , 5 , -0.07119869028327072\n",
      "3 , 0 , 4.2787436718856995\n",
      "3 , 2 , -0.9105769769212143\n",
      "4 , 0 , -3.968731455970333\n",
      "4 , 3 , -0.2902842595733809\n"
     ]
    }
   ],
   "source": [
    "test_indices = [[0,2],\n",
    "[0,3],\n",
    "[0,4],\n",
    "[1,1],\n",
    "[1,4],\n",
    "[1,5],\n",
    "[3,0],\n",
    "[3,2],\n",
    "[4,0],\n",
    "[4,3]]\n",
    "\n",
    "predicted_model = []\n",
    "\n",
    "for indice in test_indices:\n",
    "    i = indice[0]\n",
    "    j = indice[1]\n",
    "    prediction = predict_X(i,j)\n",
    "    print(i,',',j,',',prediction)"
   ]
  },
  {
   "cell_type": "code",
   "execution_count": null,
   "metadata": {
    "collapsed": true
   },
   "outputs": [],
   "source": []
  }
 ],
 "metadata": {
  "kernelspec": {
   "display_name": "Python 3",
   "language": "python",
   "name": "python3"
  },
  "language_info": {
   "codemirror_mode": {
    "name": "ipython",
    "version": 3
   },
   "file_extension": ".py",
   "mimetype": "text/x-python",
   "name": "python",
   "nbconvert_exporter": "python",
   "pygments_lexer": "ipython3",
   "version": "3.6.0"
  }
 },
 "nbformat": 4,
 "nbformat_minor": 2
}
