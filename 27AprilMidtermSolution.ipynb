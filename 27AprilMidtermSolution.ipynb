{
 "cells": [
  {
   "cell_type": "code",
   "execution_count": 1,
   "metadata": {
    "collapsed": true
   },
   "outputs": [],
   "source": [
    "import numpy as np\n",
    "import random\n",
    "\n",
    "%matplotlib inline\n",
    "from __future__ import print_function\n",
    "from ipywidgets import interact, interactive, fixed\n",
    "import ipywidgets as widgets\n",
    "import matplotlib.pylab as plt\n",
    "from IPython.display import clear_output, display, HTML\n",
    "import scipy as sc\n",
    "import numpy as np\n",
    "import pandas as pd\n",
    "import matplotlib as mpl\n",
    "import matplotlib.pylab as plt"
   ]
  },
  {
   "cell_type": "code",
   "execution_count": 2,
   "metadata": {
    "collapsed": true
   },
   "outputs": [],
   "source": [
    "y = np.matrix('4; 8; 16; 32')"
   ]
  },
  {
   "cell_type": "code",
   "execution_count": 3,
   "metadata": {
    "collapsed": true
   },
   "outputs": [],
   "source": [
    "A = np.matrix('2; 4; 8; 16')"
   ]
  },
  {
   "cell_type": "code",
   "execution_count": 4,
   "metadata": {
    "collapsed": false
   },
   "outputs": [
    {
     "data": {
      "text/plain": [
       "matrix([[ 0.00294118]])"
      ]
     },
     "execution_count": 4,
     "metadata": {},
     "output_type": "execute_result"
    }
   ],
   "source": [
    "k = np.linalg.inv(A.T.dot(A))\n",
    "k"
   ]
  },
  {
   "cell_type": "code",
   "execution_count": 5,
   "metadata": {
    "collapsed": false
   },
   "outputs": [
    {
     "data": {
      "text/plain": [
       "matrix([[680]])"
      ]
     },
     "execution_count": 5,
     "metadata": {},
     "output_type": "execute_result"
    }
   ],
   "source": [
    "l = A.T.dot(y)\n",
    "l"
   ]
  },
  {
   "cell_type": "code",
   "execution_count": null,
   "metadata": {
    "collapsed": false
   },
   "outputs": [],
   "source": []
  },
  {
   "cell_type": "code",
   "execution_count": 6,
   "metadata": {
    "collapsed": false
   },
   "outputs": [
    {
     "data": {
      "text/plain": [
       "matrix([[ 2.]])"
      ]
     },
     "execution_count": 6,
     "metadata": {},
     "output_type": "execute_result"
    }
   ],
   "source": [
    "k*l"
   ]
  },
  {
   "cell_type": "code",
   "execution_count": 7,
   "metadata": {
    "collapsed": false
   },
   "outputs": [
    {
     "data": {
      "text/plain": [
       "matrix([[23]])"
      ]
     },
     "execution_count": 7,
     "metadata": {},
     "output_type": "execute_result"
    }
   ],
   "source": [
    "test = np.matrix('2 3')\n",
    "test2 = np.matrix('4; 5')\n",
    "test*test2"
   ]
  },
  {
   "cell_type": "code",
   "execution_count": null,
   "metadata": {
    "collapsed": false
   },
   "outputs": [],
   "source": []
  },
  {
   "cell_type": "code",
   "execution_count": 8,
   "metadata": {
    "collapsed": true
   },
   "outputs": [],
   "source": [
    "Data = [\n",
    "[0,0,-1.064],\n",
    "[0,1,-0.904],\n",
    "[0,5,0.532],\n",
    "[1,0,1.192],\n",
    "[1,2,0.010],\n",
    "[1,3,0.340],\n",
    "[2,0,4.417],\n",
    "[2,1,2.141],\n",
    "[2,2,-0.260],\n",
    "[2,3,1.039],\n",
    "[2,4,1.633],\n",
    "[2,5,0.031],\n",
    "[3,1,1.811],\n",
    "[3,3,0.619],\n",
    "[3,4,0.386],\n",
    "[3,5,0.577],\n",
    "[4,1,-1.467],\n",
    "[4,2,1.323],\n",
    "[4,4,0.516],\n",
    "[4,5,-0.949],\n",
    "]"
   ]
  },
  {
   "cell_type": "code",
   "execution_count": 9,
   "metadata": {
    "collapsed": false
   },
   "outputs": [
    {
     "data": {
      "text/plain": [
       "-1.064"
      ]
     },
     "execution_count": 9,
     "metadata": {},
     "output_type": "execute_result"
    }
   ],
   "source": [
    "Data[0][2]"
   ]
  },
  {
   "cell_type": "code",
   "execution_count": 10,
   "metadata": {
    "collapsed": false
   },
   "outputs": [
    {
     "name": "stdout",
     "output_type": "stream",
     "text": [
      "[[0.5039578875732784, 0.42206368922019066], [0.24446470056744496, 0.2419652362136946], [0.44872602667149153, 0.6721460242158338], [0.865295453051169, 0.9183015711439559], [0.6957826280966671, 0.3392291839394225]]\n",
      "-----------------\n",
      "[[0.43664455210902564, 0.12319780576970418, 0.6843621309092524, 0.41126456653447885, 0.18533061289069452, 0.05804227861139144], [0.4858988990486366, 0.9663373410412069, 0.08603424532887427, 0.015853336127313433, 0.37656735928203544, 0.5069989363333957]]\n",
      "------------------\n",
      "[[-1.064, -0.904, [None], [None], [None], 0.532], [1.192, [None], 0.01, 0.34, [None], [None]], [4.417, 2.141, -0.26, 1.039, 1.633, 0.031], [[None], 1.811, [None], 0.619, 0.386, 0.577], [[None], -1.467, 1.323, [None], 0.516, -0.949]]\n"
     ]
    }
   ],
   "source": [
    "w = []\n",
    "h = []\n",
    "X = []\n",
    "def assign_random_parameters():\n",
    "    #create random w and h parameters\n",
    "    for i in range(5):\n",
    "        w.append([])    \n",
    "        for k in range(2):\n",
    "            w[i].append(random.random())\n",
    "    for k in range(2):\n",
    "        h.append([])    \n",
    "        for j in range(6):\n",
    "            h[k].append(random.random())\n",
    "    \n",
    "\n",
    "        \n",
    "#Constructing X 2D array for given values in data.\n",
    "\n",
    "for i in range(5):\n",
    "    X.append([])\n",
    "    for j in range(6):\n",
    "        X[i].append([])\n",
    "        X[i][j].append(None)\n",
    "        \n",
    "for element in Data:\n",
    "    X[element[0]][element[1]] = element[2]\n",
    "    \n",
    "\n",
    "    \n",
    "assign_random_parameters()       \n",
    "print(w)\n",
    "print('-----------------')\n",
    "print(h)\n",
    "print('------------------')\n",
    "print(X)"
   ]
  },
  {
   "cell_type": "code",
   "execution_count": 11,
   "metadata": {
    "collapsed": false
   },
   "outputs": [
    {
     "name": "stdout",
     "output_type": "stream",
     "text": [
      "262.3843506722433\n",
      "2.2175103847037914\n",
      "-1.064\n"
     ]
    }
   ],
   "source": [
    "def predict_X(i,j):\n",
    "    #print('pedicting for', i , ' and ' , j)\n",
    "    retval = (w[i][0]*h[0][j])+(w[i][1]*h[1][j])\n",
    "    #print('(',w[i][0] , 'x' ,h[0][j],')+(',w[i][1],'x',h[1][j],')=',retval )\n",
    "    return retval\n",
    "\n",
    "def calculate_error_single_element(i,j):\n",
    "    prediction = predict_X(i,j)\n",
    "    real = X[i][j]\n",
    "    error = prediction - real\n",
    "    return error**2\n",
    "\n",
    "\n",
    "def calculate_total_error(): #with square method\n",
    "    total_error = 0\n",
    "    for element in Data:\n",
    "        i = element[0]\n",
    "        j = element[1]\n",
    "        error = calculate_error_single_element(i,j)\n",
    "        total_error = total_error + error**2\n",
    "    return total_error\n",
    "\n",
    "#0,111056383 0,010663285\n",
    "#\n",
    "print(calculate_total_error())\n",
    "print(calculate_error_single_element(0,0))\n",
    "print(X[0][0])"
   ]
  },
  {
   "cell_type": "markdown",
   "metadata": {},
   "source": [
    "## Minimizing square of error\n",
    "\n",
    "$$\n",
    "x_{i,j} = w_{i,0} h_{0,j} + w_{i,1} h_{1,j} + \\epsilon_{i,j}\n",
    "$$\n",
    "\n",
    "$$\n",
    "\\epsilon_{i,j} = X_{i,j} - w_{i,0} h_{0,j} - w_{i,1} h_{1,j}\n",
    "$$\n",
    "\n",
    "$$\n",
    "\\epsilon_{i,j}^2 = ( X_{i,j} - w_{i,0} h_{0,j} - w_{i,1} h_{1,j} )^2\n",
    "$$\n",
    "\n",
    "$$\n",
    "\\epsilon_{i,j}^2 = X_{i,j}^2 + w_{i,0}^2 h_{0,j}^2 + w_{i,1}^2 h_{1,j}^2 - 2X_{i,j} w_{i,0} h_{0,j} - 2X_{i,j} w_{i,1} h_{1,j} + 2 w_{i,0} h_{0,j} w_{i,1} h_{1,j}\n",
    "$$\n",
    "\n",
    "\n",
    "Minimizing the error function, we need to calculate partial derivative of the function with respect to parameters w and h.\n",
    "\n",
    "When k = 0:\n",
    "\n",
    "With respect to w:\n",
    "\n",
    "$$\n",
    "\\frac{\\partial \\epsilon(i,j)}{\\partial w_{i,0}} = 2W_{i,0} h_{0,j}^2 - 2 X_{i,j} h_{0,j} + 2 h_{0,j} w_{i,1} h_{1,j}\n",
    "$$\n",
    "\n",
    "With respect to h:\n",
    "\n",
    "$$\n",
    "\\frac{\\partial \\epsilon(i,j)}{\\partial h_{0,j}} = 2W_{i,0}^2 h_{0,j} - 2 X_{i,j} w_{i,0} + 2 w_{i,0} w_{i,1} h_{1,j}\n",
    "$$\n",
    "\n",
    "And when k = 1:\n",
    "\n",
    "With respect to w:\n",
    "\n",
    "\n",
    "$$\n",
    "\\frac{\\partial \\epsilon(i,j)}{\\partial w_{i,1}} = 2W_{i,1} h_{1,j}^2 - 2 X_{i,j} h_{1,j} + 2 w_{i,0} h_{0,j} h_{1,j}\n",
    "$$\n",
    "\n",
    "With respect to h:\n",
    "\n",
    "$$\n",
    "\\frac{\\partial \\epsilon(i,j)}{\\partial h_{1,j}} = 2W_{i,1}^2 h_{1,j} - 2 X_{i,j} w_{i,1} + 2 w_{i,0} h_{0,j} w_{i,1}\n",
    "$$\n",
    "\n",
    "It turns out, when we are calculating derivative with respect to w or h ; the value of k changes the result.\n",
    "\n",
    "Also whan taking derivate of w, we are dependant on the j parameter as well."
   ]
  },
  {
   "cell_type": "code",
   "execution_count": 12,
   "metadata": {
    "collapsed": false
   },
   "outputs": [
    {
     "name": "stdout",
     "output_type": "stream",
     "text": [
      "1.3004416570034631\n",
      "1.5009183721869053\n"
     ]
    }
   ],
   "source": [
    "def deriv_W(i,j,k, X):\n",
    "    if k==0:\n",
    "        return (2*w[i][0]*h[0][j]**2)-(2*X*h[0][j])+(2*h[0][j]*w[i][1]*h[1][j])\n",
    "    else:\n",
    "        return (2*w[i][1]*h[1][j]**2)-(2*X*h[1][j])+(2*h[0][j]*w[i][0]*h[1][j])\n",
    "\n",
    "def deriv_H(i,j,k, X):\n",
    "    if k==0:\n",
    "        return (2*w[i][0]**2*h[0][j])-(2*X*w[i][0])+(2*w[i][0]*w[i][1]*h[1][j])\n",
    "    else:\n",
    "        return (2*w[i][1]**2*h[1][j])-(2*X*w[i][1])+(2*w[i][0]*h[0][j]*w[i][1])\n",
    "    \n",
    "print(deriv_W(0,0,0,-1.064))\n",
    "print(deriv_H(0,0,0,-1.064))"
   ]
  },
  {
   "cell_type": "code",
   "execution_count": null,
   "metadata": {
    "collapsed": false
   },
   "outputs": [],
   "source": []
  },
  {
   "cell_type": "code",
   "execution_count": 13,
   "metadata": {
    "collapsed": false
   },
   "outputs": [
    {
     "name": "stdout",
     "output_type": "stream",
     "text": [
      "0.5039578875732784\n",
      "1.3004416570034631\n",
      "262.3843506722433\n",
      "1.3000603400736903\n",
      "262.37731337559717\n"
     ]
    }
   ],
   "source": [
    "print(w[0][0])\n",
    "print(deriv_W(0,0,0,X[0][0]))\n",
    "print(calculate_total_error())\n",
    "w[0][0]= w[0][0] - 0.001\n",
    "print(deriv_W(0,0,0,X[0][0]))\n",
    "print(calculate_total_error())"
   ]
  },
  {
   "cell_type": "code",
   "execution_count": 14,
   "metadata": {
    "collapsed": false
   },
   "outputs": [
    {
     "name": "stdout",
     "output_type": "stream",
     "text": [
      "262.37731337559717\n",
      "0.06381893119612085\n",
      "--------------\n",
      "Prediction for given data:  0 , 0 , -1.3930792249555248\n",
      "Prediction for given data:  0 , 1 , -0.5111543915960954\n",
      "Prediction for given data:  0 , 5 , 0.12208109233993736\n",
      "Prediction for given data:  1 , 0 , 1.2470715590284067\n",
      "Prediction for given data:  1 , 2 , 0.005329595140806664\n",
      "Prediction for given data:  1 , 3 , 0.2800030948940273\n",
      "Prediction for given data:  2 , 0 , 4.360970438005313\n",
      "Prediction for given data:  2 , 1 , 2.1894232699715137\n",
      "Prediction for given data:  2 , 2 , -0.2869921445918546\n",
      "Prediction for given data:  2 , 3 , 1.0460635536899134\n",
      "Prediction for given data:  2 , 4 , 1.6100076073282485\n",
      "Prediction for given data:  2 , 5 , 0.00033792114461761447\n",
      "Prediction for given data:  3 , 1 , 1.8195082668617353\n",
      "Prediction for given data:  3 , 3 , 0.626368829241977\n",
      "Prediction for given data:  3 , 4 , 0.3877696890421903\n",
      "Prediction for given data:  3 , 5 , 0.5649053181537093\n",
      "Prediction for given data:  4 , 1 , -1.4707435536018252\n",
      "Prediction for given data:  4 , 2 , 1.3242010876706845\n",
      "Prediction for given data:  4 , 4 , 0.51103781975008\n",
      "Prediction for given data:  4 , 5 , -0.9465336925153848\n",
      "[[-0.681289813708504, -0.28137447652181347], [0.5814388447077327, 0.30466083008655287], [1.9004183755731692, 1.3118857367002372], [0.48110594117577066, 1.205348175586662], [0.5640150159303209, -1.0741863898458106]]\n",
      "---------\n",
      "[[1.6724775937127085, 0.15187039026629787, 0.5137538886965904, 0.2646242059253531, 0.862851311987403, -0.4463269315648371], [0.9014224738457521, 1.4489112400787558, -0.9629950534950422, 0.41403518228205755, -0.02269319692042054, 0.6468138189671568]]\n"
     ]
    }
   ],
   "source": [
    "EPOCH = 15000\n",
    "trial = 20\n",
    "eta = 0.0000164 # arbitrary low value\n",
    "print(calculate_total_error())\n",
    "start_error = calculate_total_error()\n",
    "for t in range(trial):\n",
    "    for k in range(2):\n",
    "        for i in range(5):\n",
    "            for j in range(6):\n",
    "                for epoch in range(EPOCH):\n",
    "                    if(type(X[i][j]) is float): # Some i,j values does not exist in Data\n",
    "                        w[i][k] = w[i][k] - (eta*deriv_W(i,j,k,X[i][j]))\n",
    "                        h[k][j] = h[k][j] - (eta*deriv_H(i,j,k,X[i][j]))\n",
    "                    \n",
    "print(calculate_total_error()) # Must show low error\n",
    "print('--------------')\n",
    "for element in Data:\n",
    "    i = element[0]\n",
    "    j = element[1]\n",
    "    prediction = predict_X(i,j)\n",
    "    print('Prediction for given data: ', i , ',' , j, ',' , prediction)\n",
    "print(w)\n",
    "print('---------')\n",
    "print(h)"
   ]
  },
  {
   "cell_type": "code",
   "execution_count": 17,
   "metadata": {
    "collapsed": false
   },
   "outputs": [
    {
     "name": "stdout",
     "output_type": "stream",
     "text": [
      "0 , 2 , -0.07905306205185642\n",
      "0 , 3 , -0.2967847086338722\n",
      "0 , 4 , -0.5814665231979463\n",
      "1 , 1 , 0.5297298453858792\n",
      "1 , 4 , 0.494781541785414\n",
      "1 , 5 , -0.06245298045301881\n",
      "3 , 0 , 1.8911668411013336\n",
      "3 , 2 , -0.9135742826751438\n",
      "4 , 0 , -0.024993276245270146\n",
      "4 , 3 , -0.295498932004179\n"
     ]
    }
   ],
   "source": [
    "test_indices = [[0,2],\n",
    "[0,3],\n",
    "[0,4],\n",
    "[1,1],\n",
    "[1,4],\n",
    "[1,5],\n",
    "[3,0],\n",
    "[3,2],\n",
    "[4,0],\n",
    "[4,3]]\n",
    "\n",
    "predicted_model = []\n",
    "\n",
    "for indice in test_indices:\n",
    "    i = indice[0]\n",
    "    j = indice[1]\n",
    "    prediction = predict_X(i,j)\n",
    "    print(i,',',j,',',prediction)"
   ]
  },
  {
   "cell_type": "code",
   "execution_count": null,
   "metadata": {
    "collapsed": true
   },
   "outputs": [],
   "source": []
  }
 ],
 "metadata": {
  "kernelspec": {
   "display_name": "Python 3",
   "language": "python",
   "name": "python3"
  },
  "language_info": {
   "codemirror_mode": {
    "name": "ipython",
    "version": 3
   },
   "file_extension": ".py",
   "mimetype": "text/x-python",
   "name": "python",
   "nbconvert_exporter": "python",
   "pygments_lexer": "ipython3",
   "version": "3.6.0"
  }
 },
 "nbformat": 4,
 "nbformat_minor": 2
}
